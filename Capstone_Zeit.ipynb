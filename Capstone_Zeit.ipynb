{
 "cells": [
  {
   "cell_type": "markdown",
   "metadata": {
    "cell_style": "center"
   },
   "source": [
    "**Description:** We want to use different ML (supervised and unsupervised) approaches to predict churns of subscriptions of the german newspaper “Die Zeit”. Supervised ML methods can be used to predict (classification methods) subscription churns based on the given dataset. Since a large number of features exists, feature selection as part of an extensive EDA is essential. Unsupervised ML methods could be used first to do clustering on the dataset to identify if there are certain “groups of subscribers”, who share certain features. This clustering could be used to investigate subscriber group specific churn mitigation methods (not only writing emails, as given in the dataset description).\n",
    "\n",
    "**Project Name:** Churn Prediction - Die Zeit\n",
    "\n",
    "**Team:** Carlotta Ulm, Silas Mederer, Jonas Bechthold\n",
    "\n",
    "**Date:** 2020-10-26 to 2020-11-27"
   ]
  },
  {
   "cell_type": "markdown",
   "metadata": {},
   "source": [
    "# Setting up environment and imports"
   ]
  },
  {
   "cell_type": "code",
   "execution_count": null,
   "metadata": {
    "ExecuteTime": {
     "end_time": "2020-10-27T19:21:02.230076Z",
     "start_time": "2020-10-27T19:20:59.976985Z"
    }
   },
   "outputs": [],
   "source": [
    "# data analysis and wrangling\n",
    "import pandas as pd\n",
    "import numpy as np\n",
    "import math\n",
    "import itertools\n",
    "from time import time\n",
    "\n",
    "# own modules\n",
    "import eda_methods as eda\n",
    "\n",
    "# visualization\n",
    "import seaborn as sns\n",
    "#sns.set(style=\"white\")  \n",
    "sns.set_theme()\n",
    "\n",
    "import matplotlib\n",
    "import matplotlib.pyplot as plt\n",
    "%matplotlib inline\n",
    "plt.style.use('ggplot')\n",
    "from pandas.plotting import scatter_matrix\n",
    "\n",
    "# pandas profiling\n",
    "from pandas_profiling import ProfileReport\n",
    "\n",
    "# warnings handler\n",
    "import warnings\n",
    "warnings.filterwarnings(\"ignore\")\n",
    "\n",
    "random_state = 100           # Ensures modeling results can be replicated\n",
    "np.random.seed(42)\n",
    "\n",
    "# Display Options for pandas\n",
    "pd.set_option('display.max_columns', None) # Sets maximum columns displayed in tables\n",
    "pd.set_option('display.max_rows', None)\n",
    "pd.set_option('display.width', None)\n",
    "pd.set_option('display.max_colwidth', -1)\n",
    "\n",
    "# Variables for plot sizes\n",
    "matplotlib.rc('font', size=20)          # controls default text sizes\n",
    "matplotlib.rc('axes', titlesize=16)     # fontsize of the axes title\n",
    "matplotlib.rc('axes', labelsize=18)    # fontsize of the x and y labels\n",
    "matplotlib.rc('xtick', labelsize=18)    # fontsize of the tick labels\n",
    "matplotlib.rc('ytick', labelsize=18)    # fontsize of the tick labels\n",
    "matplotlib.rc('legend', fontsize=14)    # legend fontsize\n",
    "matplotlib.rc('figure', titlesize=20)\n",
    "\n",
    "####################################################\n",
    "# Machine Learning Libraries\n",
    "from sklearn.model_selection import train_test_split\n",
    "from sklearn.metrics import confusion_matrix, classification_report\n",
    "from sklearn.neighbors import KNeighborsClassifier\n",
    "from sklearn.metrics import fbeta_score, accuracy_score, f1_score, recall_score, precision_score\n",
    "from sklearn.linear_model import LogisticRegression\n",
    "from sklearn.ensemble import RandomForestClassifier\n",
    "from sklearn.svm import SVC\n",
    "from sklearn.linear_model import LogisticRegression\n",
    "from xgboost import XGBClassifier\n",
    "from sklearn.model_selection import GridSearchCV\n",
    "from sklearn.metrics import make_scorer \n",
    "from sklearn.model_selection import KFold\n",
    "from sklearn.metrics import roc_curve\n",
    "from sklearn.metrics import roc_auc_score\n",
    "\n",
    "#Pipeline\n",
    "from sklearn.pipeline import Pipeline\n",
    "from sklearn.preprocessing import StandardScaler\n",
    "\n",
    "#geodaten\n",
    "import geopandas as gpd\n",
    "\n",
    "#time series\n",
    "import datetime"
   ]
  },
  {
   "cell_type": "markdown",
   "metadata": {},
   "source": [
    "# Business Understanding \n",
    "\n",
    "Please check the [wiki page: Business understanding (publishing and news)](https://github.com/jb-ds2020/nf-ds3-capstone-churn-prevention/wiki/Business-understanding-(publishing-and-news))."
   ]
  },
  {
   "cell_type": "markdown",
   "metadata": {},
   "source": [
    "## General"
   ]
  },
  {
   "cell_type": "markdown",
   "metadata": {},
   "source": [
    "## Background\n"
   ]
  },
  {
   "cell_type": "markdown",
   "metadata": {},
   "source": [
    "## Key Questions"
   ]
  },
  {
   "cell_type": "markdown",
   "metadata": {},
   "source": [
    "## Dataset Description"
   ]
  },
  {
   "cell_type": "markdown",
   "metadata": {},
   "source": [
    "Let's get an idea about the columns and find out what they mean:"
   ]
  },
  {
   "cell_type": "code",
   "execution_count": null,
   "metadata": {
    "ExecuteTime": {
     "end_time": "2020-10-27T19:21:08.377107Z",
     "start_time": "2020-10-27T19:21:06.082390Z"
    }
   },
   "outputs": [],
   "source": [
    "df = pd.read_csv('data/f_chtr_churn_traintable_nf.csv')\n",
    "df.info()"
   ]
  },
  {
   "cell_type": "code",
   "execution_count": null,
   "metadata": {
    "ExecuteTime": {
     "end_time": "2020-10-27T19:31:12.755673Z",
     "start_time": "2020-10-27T19:21:10.575Z"
    }
   },
   "outputs": [],
   "source": [
    "df.head()"
   ]
  },
  {
   "cell_type": "code",
   "execution_count": null,
   "metadata": {
    "ExecuteTime": {
     "end_time": "2020-10-27T19:20:42.014951Z",
     "start_time": "2020-10-27T19:16:32.566Z"
    }
   },
   "outputs": [],
   "source": [
    "df.tail(1)"
   ]
  },
  {
   "cell_type": "code",
   "execution_count": null,
   "metadata": {
    "ExecuteTime": {
     "start_time": "2020-10-27T19:09:25.187Z"
    }
   },
   "outputs": [],
   "source": [
    "df.drop(\"Unnamed: 0\", axis=1, inplace=True)"
   ]
  },
  {
   "cell_type": "code",
   "execution_count": null,
   "metadata": {
    "ExecuteTime": {
     "start_time": "2020-10-27T19:09:25.496Z"
    },
    "scrolled": true
   },
   "outputs": [],
   "source": [
    "columnlist = list(df.columns) \n",
    "columnlist"
   ]
  },
  {
   "cell_type": "code",
   "execution_count": null,
   "metadata": {
    "ExecuteTime": {
     "start_time": "2020-10-27T19:09:27.254Z"
    },
    "scrolled": true
   },
   "outputs": [],
   "source": [
    "eda.describe_plus(df).round(2)"
   ]
  },
  {
   "cell_type": "markdown",
   "metadata": {},
   "source": [
    "## Get an idea of the column names by sampling"
   ]
  },
  {
   "cell_type": "code",
   "execution_count": null,
   "metadata": {
    "scrolled": true
   },
   "outputs": [],
   "source": [
    "df.sample(2)"
   ]
  },
  {
   "cell_type": "markdown",
   "metadata": {},
   "source": [
    "## Dataset Overview with pandas profiling"
   ]
  },
  {
   "cell_type": "code",
   "execution_count": null,
   "metadata": {},
   "outputs": [],
   "source": [
    "# use pandas_profiling to create report\n",
    "# save html to plots\n",
    "\n",
    "# profile = ProfileReport(df)\n",
    "# profile.to_file(\"plots/report.html\")"
   ]
  },
  {
   "cell_type": "code",
   "execution_count": null,
   "metadata": {},
   "outputs": [],
   "source": [
    "from IPython.display import IFrame\n",
    "IFrame(src='plots/pandas_profiling_report.html', width=1000, height=700)"
   ]
  },
  {
   "cell_type": "markdown",
   "metadata": {},
   "source": [
    "## Target Metric\n"
   ]
  },
  {
   "cell_type": "code",
   "execution_count": null,
   "metadata": {},
   "outputs": [],
   "source": [
    "#df.churn.value_counts()"
   ]
  },
  {
   "cell_type": "code",
   "execution_count": null,
   "metadata": {},
   "outputs": [],
   "source": [
    "#df2 = pd.read_csv('data/f_chtr_churn_traintable_nf_2.csv')\n",
    "#df2.info()"
   ]
  },
  {
   "cell_type": "code",
   "execution_count": null,
   "metadata": {},
   "outputs": [],
   "source": [
    "#df2.sample(2)"
   ]
  },
  {
   "cell_type": "code",
   "execution_count": null,
   "metadata": {},
   "outputs": [],
   "source": [
    "#df2.drop(\"Unnamed: 0\", axis=1, inplace=True)"
   ]
  },
  {
   "cell_type": "code",
   "execution_count": null,
   "metadata": {},
   "outputs": [],
   "source": [
    "#df2.churn.value_counts()"
   ]
  },
  {
   "cell_type": "code",
   "execution_count": null,
   "metadata": {},
   "outputs": [],
   "source": [
    "#df2.email_am_kunden.value_counts()"
   ]
  },
  {
   "cell_type": "code",
   "execution_count": null,
   "metadata": {},
   "outputs": [],
   "source": [
    "#columnlist2 = list(df2.columns) "
   ]
  },
  {
   "cell_type": "code",
   "execution_count": null,
   "metadata": {},
   "outputs": [],
   "source": [
    "#for item in columnlist2:\n",
    "#    #print(item)\n",
    "#    if item not in columnlist:\n",
    "#        print('not in list')\n",
    "#        print(item)"
   ]
  },
  {
   "cell_type": "markdown",
   "metadata": {},
   "source": [
    "## Business Scenario"
   ]
  },
  {
   "cell_type": "markdown",
   "metadata": {},
   "source": [
    "# Data Mining"
   ]
  },
  {
   "cell_type": "markdown",
   "metadata": {},
   "source": [
    "# Data Cleaning\n",
    "Purpose: Fix the inconsistencies within the data and handle the missing values"
   ]
  },
  {
   "cell_type": "code",
   "execution_count": null,
   "metadata": {},
   "outputs": [],
   "source": [
    "eda.meta(df).T"
   ]
  },
  {
   "cell_type": "code",
   "execution_count": null,
   "metadata": {},
   "outputs": [],
   "source": [
    "continues = df.select_dtypes(include=['float64','int64'])\n",
    "print(f\"numeric features {len(continues.columns)}\")\n",
    "categorial = df.select_dtypes(include=\"object\")\n",
    "print(f\"object features  {len(categorial.columns)}\")\n",
    "print(f\"shape {df.shape}\")"
   ]
  },
  {
   "cell_type": "markdown",
   "metadata": {},
   "source": [
    "## Conclusion\n",
    "\n",
    "**Dataframe in general**\n",
    "- The data set is complete and contains 161,760 entries and 169 features. There are some features that we will not be able to use. For example the label \"churn\" or the feature \"date_x\", \"kuendigungs_eingangs_datum\" or \"avg_churn\" which probably contains the values from the current churn-prediction-model.\n",
    "\n",
    "**Missings**\n",
    "- There are only two features with missing values. The feature \"kuendigungs_eingangs_datum\" is null if there is no notice of termination, so these nulls are correct. The other feature is \"ort\", we are able to engineer the \"ort\" by using the feature \"plz_3\".\n",
    "\n",
    "**Dublicates**\n",
    "- The feature \"auftrag_new_id\" is the only one with no dublicates. We will drop this, cause all these entries are unique given by the stakeholder to manage the contracts.\n",
    "\n",
    "**Data types**\n",
    "- There are 151 numeric features, a lot of them will be categorial. Also we have 18 object types."
   ]
  },
  {
   "cell_type": "markdown",
   "metadata": {},
   "source": [
    "## Restrict the number of subscription (cnt_abo) to small household to exclude major customers"
   ]
  },
  {
   "cell_type": "code",
   "execution_count": null,
   "metadata": {},
   "outputs": [],
   "source": []
  },
  {
   "cell_type": "markdown",
   "metadata": {},
   "source": [
    "# Data Exploration - EDA\n"
   ]
  },
  {
   "cell_type": "code",
   "execution_count": null,
   "metadata": {},
   "outputs": [],
   "source": [
    "def crosstab_evaluation(feature_column,target_column,relative=True):\n",
    "    '''function to cross evaluate two features by a pandas cross table\n",
    "    Inputs:\n",
    "    feature_column: pandas Series of feature\n",
    "    target_column: pandas Series of target (y-axis value)\n",
    "    relative: False -> returns absolute values, True -> gives percentages\n",
    "    \n",
    "    Retunr:\n",
    "    crosstable\n",
    "    '''\n",
    "    crosstable = pd.crosstab(feature_column,target_column)\n",
    "    if relative:\n",
    "        crosstable = crosstable.div(crosstable.sum(1),axis=0)\n",
    "    \n",
    "    return crosstable\n",
    "\n",
    "def crosstab_barplot(crosstable,labellist,figsize_x=10,figsize_y=7,xlabelname='Default'):\n",
    "    '''\n",
    "    Function to plot a pandas crosstable. \n",
    "    \n",
    "    Inputs:\n",
    "    crosstable: a pandas crosstable\n",
    "    labellist: a list with the labels of the data\n",
    "    xlabelname: Name of the x axis feature\n",
    "    '''\n",
    "    crosstable.plot(kind='bar', stacked=True,figsize=(figsize_x,figsize_y))\n",
    "    plt.xlabel(xlabelname)\n",
    "    plt.ylabel('Frequency')\n",
    "    \n",
    "    #plt.title('Title');\n",
    "    #plt.xticks(np.arange(2), ('60 months', '36 months',), fontsize=20)\n",
    "    \n",
    "    L=plt.legend(fontsize=20,loc=(1.04,0.83))\n",
    "    L.get_texts()[0].set_text(labellist[0])\n",
    "    L.get_texts()[1].set_text(labellist[1])"
   ]
  },
  {
   "cell_type": "markdown",
   "metadata": {},
   "source": [
    "## Describe"
   ]
  },
  {
   "cell_type": "code",
   "execution_count": null,
   "metadata": {},
   "outputs": [],
   "source": [
    "eda.describe_plus(df)"
   ]
  },
  {
   "cell_type": "markdown",
   "metadata": {},
   "source": [
    "## Customer/Personal Features - Jonas"
   ]
  },
  {
   "cell_type": "markdown",
   "metadata": {},
   "source": [
    "The following feature are considered as personal information and shortly described:\n",
    "- anrede: Mr, Mrs\n",
    "- titel: academic title\n",
    "- plz_1: first letter of zip code\n",
    "- plz_2: first two letters of zip code\n",
    "- plz_3: first three letters of zip code\n",
    "- ort: city\n",
    "- metropole: is the city a metropolitan city\n",
    "- land_iso_code: DE, A, CH (Germany, Austria, Switzerland)"
   ]
  },
  {
   "cell_type": "markdown",
   "metadata": {},
   "source": [
    "### Anrede"
   ]
  },
  {
   "cell_type": "code",
   "execution_count": null,
   "metadata": {},
   "outputs": [],
   "source": [
    "legendlist = ['churn','no churn']"
   ]
  },
  {
   "cell_type": "code",
   "execution_count": null,
   "metadata": {},
   "outputs": [],
   "source": [
    "df.anrede.value_counts().plot(kind='bar');"
   ]
  },
  {
   "cell_type": "code",
   "execution_count": null,
   "metadata": {},
   "outputs": [],
   "source": [
    "anrede_churn = crosstab_evaluation(df.anrede,df.churn)\n",
    "crosstab_barplot(anrede_churn,['no churn','churn'],xlabelname='Anrede')"
   ]
  },
  {
   "cell_type": "markdown",
   "metadata": {},
   "source": [
    "We can observe just small differences in the anrede, unknown and male customers seem to have a slightly higher churn probability. "
   ]
  },
  {
   "cell_type": "markdown",
   "metadata": {},
   "source": [
    "### Titel"
   ]
  },
  {
   "cell_type": "code",
   "execution_count": null,
   "metadata": {},
   "outputs": [],
   "source": [
    "df.titel.value_counts().plot(kind='bar');"
   ]
  },
  {
   "cell_type": "code",
   "execution_count": null,
   "metadata": {},
   "outputs": [],
   "source": [
    "titel_churn = crosstab_evaluation(df.titel,df.churn)\n",
    "crosstab_barplot(titel_churn,['no churn','churn'],xlabelname='Titel')"
   ]
  },
  {
   "cell_type": "markdown",
   "metadata": {},
   "source": [
    "We can observer a smaller churn rate for academic titles compared to no title. The column other title (sonstiger Titel) is quite useless because we don't know hat kind of titles are included in there."
   ]
  },
  {
   "cell_type": "markdown",
   "metadata": {},
   "source": [
    "### PLZ 1 "
   ]
  },
  {
   "cell_type": "markdown",
   "metadata": {},
   "source": [
    "Find the missing number of zip codes:"
   ]
  },
  {
   "cell_type": "code",
   "execution_count": null,
   "metadata": {},
   "outputs": [],
   "source": [
    "df_zip_xx = df[df.plz_1 == 'xx']\n",
    "print('Number of missing zip codes entries:',df_zip_xx.shape[0])\n",
    "print('Percentage of missing zip codes in total:',df_zip_xx.shape[0]/df.shape[0])"
   ]
  },
  {
   "cell_type": "markdown",
   "metadata": {},
   "source": [
    "There are 19788 entries with no zip code, which is about 12 percent. "
   ]
  },
  {
   "cell_type": "code",
   "execution_count": null,
   "metadata": {},
   "outputs": [],
   "source": [
    "df_zip_xx.ort.value_counts().nlargest(10)"
   ]
  },
  {
   "cell_type": "markdown",
   "metadata": {},
   "source": [
    "The xx zip codes are all non german cities (e.g. Switzerland), so we could divide the dataset into germany and out of germany areas."
   ]
  },
  {
   "cell_type": "code",
   "execution_count": null,
   "metadata": {},
   "outputs": [],
   "source": [
    "plz1_churn = crosstab_evaluation(df.plz_1,df.churn)\n",
    "crosstab_barplot(plz1_churn,['churn','no churn'],xlabelname='PLZ 1')"
   ]
  },
  {
   "cell_type": "markdown",
   "metadata": {},
   "source": [
    "Simplified geographic features, here the first digit of the zip code are quite uselfull indicators for determine regions with higher churn rate. "
   ]
  },
  {
   "cell_type": "markdown",
   "metadata": {},
   "source": [
    "### PLZ 2"
   ]
  },
  {
   "cell_type": "code",
   "execution_count": null,
   "metadata": {},
   "outputs": [],
   "source": [
    "plz2_churn = crosstab_evaluation(df.plz_2,df.churn)\n",
    "crosstab_barplot(plz2_churn,['churn','no churn'],xlabelname='PLZ 2',figsize_x=25)"
   ]
  },
  {
   "cell_type": "markdown",
   "metadata": {},
   "source": [
    "Compated to plz_1 we can see more details by this geographic information, the smearing of geographical data is less with two digits and we can have nice insights in the geographical distribution of our churns."
   ]
  },
  {
   "cell_type": "markdown",
   "metadata": {},
   "source": [
    "### PLZ 3"
   ]
  },
  {
   "cell_type": "code",
   "execution_count": null,
   "metadata": {},
   "outputs": [],
   "source": [
    "plz3_churn = crosstab_evaluation(df.plz_3,df.churn)\n",
    "crosstab_barplot(plz3_churn,['no churn','churn'],xlabelname='PLZ 3',figsize_x=50)\n",
    "plt.xlim(0,50);"
   ]
  },
  {
   "cell_type": "markdown",
   "metadata": {},
   "source": [
    "By using the 3 digit PLZ we can observe much higher variations in the churn rate. We should definitely include this feature in our model."
   ]
  },
  {
   "cell_type": "markdown",
   "metadata": {},
   "source": [
    "Since this feature has a lot of entries, it is usefull to use a nice geographical visualization with geopandas. The link to geopandas for germany can be found here: https://juanitorduz.github.io/germany_plots/"
   ]
  },
  {
   "cell_type": "code",
   "execution_count": null,
   "metadata": {},
   "outputs": [],
   "source": [
    "# geodata\n",
    "plz_shape_df = gpd.read_file('data/plz-gebiete.shp', dtype={'plz': str})\n",
    "\n",
    "plz_shape_df.info()"
   ]
  },
  {
   "cell_type": "code",
   "execution_count": null,
   "metadata": {},
   "outputs": [],
   "source": [
    "top_cities = {\n",
    "    'Berlin': (13.404954, 52.520008), \n",
    "    'Cologne': (6.953101, 50.935173),\n",
    "    'Düsseldorf': (6.782048, 51.227144),\n",
    "    'Frankfurt am Main': (8.682127, 50.110924),\n",
    "    'Hamburg': (9.993682, 53.551086),\n",
    "    'Leipzig': (12.387772, 51.343479),\n",
    "    'Munich': (11.576124, 48.137154),\n",
    "    'Dortmund': (7.468554, 51.513400),\n",
    "    'Stuttgart': (9.181332, 48.777128),\n",
    "    'Nuremberg': (11.077438, 49.449820),\n",
    "    'Hannover': (9.73322, 52.37052)\n",
    "}"
   ]
  },
  {
   "cell_type": "code",
   "execution_count": null,
   "metadata": {},
   "outputs": [],
   "source": [
    "# # Create feature.\n",
    "# plz_shape_df = plz_shape_df \\\n",
    "#     .assign(first_dig_plz = lambda x: x['plz'].str.slice(start=0, stop=1))\n",
    "# fig, ax = plt.subplots(figsize=(11,16))\n",
    "\n",
    "# plz_shape_df.plot(\n",
    "#     ax=ax, \n",
    "#     column='first_dig_plz', \n",
    "#     categorical=True, \n",
    "#     legend=True, \n",
    "#     legend_kwds={'title':'First Digit', 'loc':'lower right'},\n",
    "#     cmap='tab20',\n",
    "#     alpha=0.9\n",
    "# )\n",
    "\n",
    "# for c in top_cities.keys():\n",
    "\n",
    "#     ax.text(\n",
    "#         x=top_cities[c][0], \n",
    "#         y=top_cities[c][1] + 0.08, \n",
    "#         s=c, \n",
    "#         fontsize=12,\n",
    "#         ha='center', \n",
    "#     )\n",
    "\n",
    "#     ax.plot(\n",
    "#         top_cities[c][0], \n",
    "#         top_cities[c][1], \n",
    "#         marker='o',\n",
    "#         c='black', \n",
    "#         alpha=0.5\n",
    "#     )\n",
    "\n",
    "# ax.set(\n",
    "#     title='Germany First-Digit-Postal Codes Areas', \n",
    "#     aspect=1.3,\n",
    "#     facecolor='white'\n",
    "# );"
   ]
  },
  {
   "cell_type": "code",
   "execution_count": null,
   "metadata": {},
   "outputs": [],
   "source": [
    "plz_region_df = pd.read_csv(\n",
    "    'data/zuordnung_plz_ort.csv', \n",
    "    sep=',', \n",
    "    dtype={'plz': str}\n",
    ")\n",
    "\n",
    "plz_region_df.drop('osm_id', axis=1, inplace=True)\n",
    "\n",
    "plz_region_df.head()"
   ]
  },
  {
   "cell_type": "code",
   "execution_count": null,
   "metadata": {},
   "outputs": [],
   "source": [
    "# Merge data.\n",
    "germany_df = pd.merge(\n",
    "    left=plz_shape_df, \n",
    "    right=plz_region_df, \n",
    "    on='plz',\n",
    "    how='inner'\n",
    ")\n",
    "\n",
    "germany_df.drop(['note'], axis=1, inplace=True)"
   ]
  },
  {
   "cell_type": "code",
   "execution_count": null,
   "metadata": {},
   "outputs": [],
   "source": [
    "# fig, ax = plt.subplots(figsize=(11,16))\n",
    "\n",
    "# germany_df.plot(\n",
    "#     ax=ax, \n",
    "#     column='bundesland', \n",
    "#     categorical=True, \n",
    "#     legend=True, \n",
    "#     legend_kwds={'title':'Bundesland', 'bbox_to_anchor': (1.35, 0.8)},\n",
    "#     cmap='tab20',\n",
    "#     alpha=0.9\n",
    "# )\n",
    "\n",
    "# for c in top_cities.keys():\n",
    "\n",
    "#     ax.text(\n",
    "#         x=top_cities[c][0], \n",
    "#         y=top_cities[c][1] + 0.08, \n",
    "#         s=c, \n",
    "#         fontsize=12,\n",
    "#         ha='center', \n",
    "#     )\n",
    "\n",
    "#     ax.plot(\n",
    "#         top_cities[c][0], \n",
    "#         top_cities[c][1], \n",
    "#         marker='o',\n",
    "#         c='black', \n",
    "#         alpha=0.5\n",
    "#     )\n",
    "\n",
    "# ax.set(\n",
    "#     title='Germany - Bundesländer', \n",
    "#     aspect=1.3, \n",
    "#     facecolor='white'\n",
    "# );"
   ]
  },
  {
   "cell_type": "markdown",
   "metadata": {},
   "source": [
    "Mapping Functions to map churn probabilities for each subset of plz digits into a dataframe. "
   ]
  },
  {
   "cell_type": "code",
   "execution_count": null,
   "metadata": {},
   "outputs": [],
   "source": [
    "def convert_plz_1_to_prob(plz):\n",
    "    index = str(plz)[0]\n",
    "    #print(index)\n",
    "    value = plz1_churn.iloc[int(index),1]\n",
    "    return value\n",
    "\n",
    "def convert_plz_2_to_prob(plz):\n",
    "    index = str(plz)[0:2]\n",
    "    #print(index)\n",
    "    value = plz2_churn[plz2_churn.index == index].iloc[0,1]\n",
    "    #print(value)\n",
    "    return value\n",
    "\n",
    "def convert_plz_3_to_prob(plz):\n",
    "    index = str(plz)[0:3]\n",
    "    #print(index)\n",
    "    value = plz3_churn[plz3_churn.index == index].iloc[0,1]\n",
    "    #print(value)\n",
    "    return value"
   ]
  },
  {
   "cell_type": "code",
   "execution_count": null,
   "metadata": {},
   "outputs": [],
   "source": [
    "germany_df['churn_plz_1'] = germany_df.plz.apply(lambda x: convert_plz_1_to_prob(x))"
   ]
  },
  {
   "cell_type": "code",
   "execution_count": null,
   "metadata": {},
   "outputs": [],
   "source": [
    "germany_df['churn_plz_2'] = germany_df.plz.apply(lambda x: convert_plz_2_to_prob(x))"
   ]
  },
  {
   "cell_type": "code",
   "execution_count": null,
   "metadata": {},
   "outputs": [],
   "source": [
    "germany_df['churn_plz_3'] = germany_df.plz.apply(lambda x: convert_plz_3_to_prob(x))"
   ]
  },
  {
   "cell_type": "markdown",
   "metadata": {},
   "source": [
    "Include the number of inhabitants in the dataframe:"
   ]
  },
  {
   "cell_type": "code",
   "execution_count": null,
   "metadata": {},
   "outputs": [],
   "source": [
    "plz_einwohner_df = pd.read_csv(\n",
    "    'data/plz_einwohner.csv', \n",
    "    sep=',', \n",
    "    dtype={'plz': str, 'einwohner': int}\n",
    ")\n",
    "\n",
    "plz_einwohner_df.head()"
   ]
  },
  {
   "cell_type": "code",
   "execution_count": null,
   "metadata": {},
   "outputs": [],
   "source": [
    "# Merge data.\n",
    "germany_df = pd.merge(\n",
    "    left=germany_df, \n",
    "    right=plz_einwohner_df, \n",
    "    on='plz',\n",
    "    how='left'\n",
    ")\n",
    "\n",
    "#germany_df.head()"
   ]
  },
  {
   "cell_type": "code",
   "execution_count": null,
   "metadata": {},
   "outputs": [],
   "source": [
    "fig, ax = plt.subplots(figsize=(11,16))\n",
    "\n",
    "germany_df.plot(\n",
    "    ax=ax, \n",
    "    column='churn_plz_1', \n",
    "    categorical=False, \n",
    "    legend=True, \n",
    "    cmap='jet',\n",
    "    alpha=0.8,\n",
    "\n",
    ")\n",
    "\n",
    "for c in top_cities.keys():\n",
    "\n",
    "    ax.text(\n",
    "        x=top_cities[c][0], \n",
    "        y=top_cities[c][1] + 0.08, \n",
    "        s=c, \n",
    "        fontsize=12,\n",
    "        ha='center', \n",
    "    )\n",
    "\n",
    "    ax.plot(\n",
    "        top_cities[c][0], \n",
    "        top_cities[c][1], \n",
    "        marker='o',\n",
    "        c='black', \n",
    "        alpha=0.5\n",
    "    )\n",
    "    \n",
    "ax.set(\n",
    "    title='Germany: Churn Rate of first digit plz', \n",
    "    aspect=1.5, \n",
    "    facecolor='lightblue'\n",
    ");\n",
    "fig.savefig('plots/churn_rate_landscape_plz_1_digit.png',dpi=300)"
   ]
  },
  {
   "cell_type": "markdown",
   "metadata": {},
   "source": [
    "We can now visually see the higher churn rate in the eastern part of Germany. "
   ]
  },
  {
   "cell_type": "code",
   "execution_count": null,
   "metadata": {},
   "outputs": [],
   "source": [
    "fig, ax = plt.subplots(figsize=(11,16))\n",
    "\n",
    "germany_df.plot(\n",
    "    ax=ax, \n",
    "    column='churn_plz_2', \n",
    "    categorical=False, \n",
    "    legend=True, \n",
    "    cmap='jet',\n",
    "    alpha=0.8,\n",
    "\n",
    ")\n",
    "\n",
    "for c in top_cities.keys():\n",
    "\n",
    "    ax.text(\n",
    "        x=top_cities[c][0], \n",
    "        y=top_cities[c][1] + 0.08, \n",
    "        s=c, \n",
    "        fontsize=12,\n",
    "        ha='center', \n",
    "    )\n",
    "\n",
    "    ax.plot(\n",
    "        top_cities[c][0], \n",
    "        top_cities[c][1], \n",
    "        marker='o',\n",
    "        c='black', \n",
    "        alpha=0.5\n",
    "    )\n",
    "    \n",
    "ax.set(\n",
    "    title='Germany: Churn Rate of first two digit plz', \n",
    "    aspect=1.5, \n",
    "    facecolor='lightblue'\n",
    ");\n",
    "fig.savefig('plots/churn_rate_landscape_plz_2_digit.png',dpi=300)"
   ]
  },
  {
   "cell_type": "markdown",
   "metadata": {},
   "source": [
    "Now we can more clearly see some smaller regions with much lower and much higher churn rates."
   ]
  },
  {
   "cell_type": "code",
   "execution_count": null,
   "metadata": {},
   "outputs": [],
   "source": [
    "fig, ax = plt.subplots(figsize=(11,16))\n",
    "\n",
    "germany_df.plot(\n",
    "    ax=ax, \n",
    "    column='churn_plz_3', \n",
    "    categorical=False, \n",
    "    legend=True, \n",
    "    cmap='jet',\n",
    "    alpha=0.8,\n",
    "\n",
    ")\n",
    "\n",
    "for c in top_cities.keys():\n",
    "\n",
    "    ax.text(\n",
    "        x=top_cities[c][0], \n",
    "        y=top_cities[c][1] + 0.08, \n",
    "        s=c, \n",
    "        fontsize=12,\n",
    "        ha='center', \n",
    "    )\n",
    "\n",
    "    ax.plot(\n",
    "        top_cities[c][0], \n",
    "        top_cities[c][1], \n",
    "        marker='o',\n",
    "        c='black', \n",
    "        alpha=0.5\n",
    "    )\n",
    "    \n",
    "ax.set(\n",
    "    title='Germany: Churn Rate of first three digit plz', \n",
    "    aspect=1.5, \n",
    "    facecolor='lightblue'\n",
    ");\n",
    "fig.savefig('plots/churn_rate_landscape_plz_3_digit.png',dpi=300)"
   ]
  },
  {
   "cell_type": "markdown",
   "metadata": {},
   "source": [
    "This gives us a very detailled overview of the geographical distribution of the churn rate, with much less flattening of the data. We can observe areas with almost zero churn rate and regions with more than 60 percent churn rate.  "
   ]
  },
  {
   "cell_type": "markdown",
   "metadata": {},
   "source": [
    "### Metropole"
   ]
  },
  {
   "cell_type": "code",
   "execution_count": null,
   "metadata": {},
   "outputs": [],
   "source": [
    "metropole_churn = crosstab_evaluation(df.metropole,df.churn)\n",
    "crosstab_barplot(metropole_churn,['no churn','churn'],xlabelname='metropole')"
   ]
  },
  {
   "cell_type": "markdown",
   "metadata": {},
   "source": [
    "No significant influence if either a metropolitan city or not is found. "
   ]
  },
  {
   "cell_type": "markdown",
   "metadata": {},
   "source": [
    "### Land iso code"
   ]
  },
  {
   "cell_type": "code",
   "execution_count": null,
   "metadata": {},
   "outputs": [],
   "source": [
    "land_iso_churn = crosstab_evaluation(df.land_iso_code,df.churn)\n",
    "crosstab_barplot(land_iso_churn,['no churn','churn'],xlabelname='land')"
   ]
  },
  {
   "cell_type": "markdown",
   "metadata": {},
   "source": [
    "Germany has the highest churn rate, people from abroad (Austria (AT), Switzerland (CH) and other countries abroad) tend to churn with a lower probability. People from abroad who are subscribers tend to be more commited to their subscription. "
   ]
  },
  {
   "cell_type": "markdown",
   "metadata": {},
   "source": [
    "### Ort/City"
   ]
  },
  {
   "cell_type": "code",
   "execution_count": null,
   "metadata": {},
   "outputs": [],
   "source": [
    "a = df.groupby('ort').size().nlargest(20)\n",
    "a.plot(kind='bar',ylabel='number of subscribers',figsize=(11,6));"
   ]
  },
  {
   "cell_type": "markdown",
   "metadata": {},
   "source": [
    "The Zeit Top City is Berlin, followed by Hamburg and Munich. Vienna surpsisingly has a quite high number of subscribers of about 4000."
   ]
  },
  {
   "cell_type": "code",
   "execution_count": null,
   "metadata": {},
   "outputs": [],
   "source": [
    "b = list(a.index)\n",
    "df_top_cities = df[df['ort'].apply((lambda x: x in b))]\n",
    "\n",
    "ort_churn = crosstab_evaluation(df_top_cities.ort,df_top_cities.churn)\n",
    "crosstab_barplot(ort_churn,['no churn','churn'],xlabelname='ort')"
   ]
  },
  {
   "cell_type": "markdown",
   "metadata": {},
   "source": [
    "The churn rate varies over the twenty largest cities. "
   ]
  },
  {
   "cell_type": "markdown",
   "metadata": {},
   "source": [
    "### Summary Customer Related Features"
   ]
  },
  {
   "cell_type": "markdown",
   "metadata": {},
   "source": [
    "To sum up, the following was found about the customer related features:\n",
    "\n",
    "- **anrede**: Small differences: keep feature.\n",
    "- **titel**: Smaller churn rate for academic titles compared to no title: keep feature\n",
    "- **plz_1, plz_2, plz_3**: The plz code gives us a very detailled overview of the geographical distribution of the churn rate: keep feature  \n",
    "- **ort:** Geographic information, but similar to plz: should be dropped\n",
    "- **metropole:** Just slight difference in churn rate: keep feature\n",
    "- **land_iso_code:** There is a country influence on the churn rate: keep feature"
   ]
  },
  {
   "cell_type": "markdown",
   "metadata": {},
   "source": [
    "## Subscription Features - Jonas"
   ]
  },
  {
   "cell_type": "markdown",
   "metadata": {},
   "source": [
    "The following features are related to the subscription kind and shortly described:\n",
    "\n",
    "- kanal\n",
    "- objekt_name \n",
    "- aboform_name\n",
    "- zahlung_rhythmus_name\n",
    "- rechnungsmonat\n",
    "- zahlung_weg_name \n",
    "- studentenabo\n",
    "- unterbrechung"
   ]
  },
  {
   "cell_type": "markdown",
   "metadata": {},
   "source": [
    "### Kanal"
   ]
  },
  {
   "cell_type": "code",
   "execution_count": null,
   "metadata": {},
   "outputs": [],
   "source": [
    "df.kanal.value_counts().plot(kind='bar');"
   ]
  },
  {
   "cell_type": "code",
   "execution_count": null,
   "metadata": {},
   "outputs": [],
   "source": [
    "kanal_churn = crosstab_evaluation(df.kanal,df.churn)\n",
    "# sort crosstable by churn probability\n",
    "#kanal_churn.sort_values(by=1,ascending=True,inplace=True)\n",
    "crosstab_barplot(kanal_churn,['no churn','churn'],xlabelname='kanal')"
   ]
  },
  {
   "cell_type": "code",
   "execution_count": null,
   "metadata": {},
   "outputs": [],
   "source": [
    "kanal_churn = crosstab_evaluation(df.kanal,df.churn)\n",
    "# sort crosstable by churn probability\n",
    "kanal_churn.sort_values(by=1,ascending=True,inplace=True)\n",
    "crosstab_barplot(kanal_churn,['no churn','churn'],xlabelname='kanal')"
   ]
  },
  {
   "cell_type": "markdown",
   "metadata": {},
   "source": [
    "The channel of the subrscitpion is an important feature for churn. The churn rate increases from less than 20 percent for mailings to almost 40 percent for SEA (Search Engine Advertising).  "
   ]
  },
  {
   "cell_type": "markdown",
   "metadata": {},
   "source": [
    "### cnt_abo"
   ]
  },
  {
   "cell_type": "code",
   "execution_count": null,
   "metadata": {},
   "outputs": [],
   "source": [
    "fig, ax = plt.subplots(figsize=(11,16))\n",
    "ax = sns.countplot(x=\"cnt_abo\", hue='churn',data=df)\n",
    "ax.set_xlim(0,10)"
   ]
  },
  {
   "cell_type": "markdown",
   "metadata": {},
   "source": [
    "### objekt_name"
   ]
  },
  {
   "cell_type": "code",
   "execution_count": null,
   "metadata": {},
   "outputs": [],
   "source": [
    "df.objekt_name.value_counts().plot(kind='bar',figsize=(11,6));"
   ]
  },
  {
   "cell_type": "code",
   "execution_count": null,
   "metadata": {},
   "outputs": [],
   "source": [
    "objekt_churn = crosstab_evaluation(df.objekt_name,df.churn)\n",
    "objekt_churn.sort_values(by=1,ascending=True,inplace=True)\n",
    "crosstab_barplot(objekt_churn,['no churn','churn'],xlabelname='objekt name')"
   ]
  },
  {
   "cell_type": "markdown",
   "metadata": {},
   "source": [
    "Combined subscription of Die Zeit with Christ & Welt has a remarkably smaller churn rate than Zeit Digital and Die Zeit print. "
   ]
  },
  {
   "cell_type": "code",
   "execution_count": null,
   "metadata": {},
   "outputs": [],
   "source": [
    "fig, ax = plt.subplots(figsize=(11,16))\n",
    "ax = sns.countplot(x=\"objekt_name\", hue='churn',data=df)"
   ]
  },
  {
   "cell_type": "markdown",
   "metadata": {},
   "source": [
    "### aboform_name"
   ]
  },
  {
   "cell_type": "code",
   "execution_count": null,
   "metadata": {},
   "outputs": [],
   "source": [
    "df.aboform_name.value_counts().plot(kind='bar',figsize=(11,6));"
   ]
  },
  {
   "cell_type": "code",
   "execution_count": null,
   "metadata": {},
   "outputs": [],
   "source": [
    "aboform_churn = crosstab_evaluation(df.aboform_name,df.churn)\n",
    "aboform_churn.sort_values(by=1,ascending=True,inplace=True)\n",
    "crosstab_barplot(aboform_churn,['no churn','churn'],xlabelname='aboform')"
   ]
  },
  {
   "cell_type": "markdown",
   "metadata": {},
   "source": [
    "Also here, we can see that Prämienabo has a much smaller churn rate than others, in particular Geschenkabo and Negative Option. "
   ]
  },
  {
   "cell_type": "markdown",
   "metadata": {},
   "source": [
    "### zahlung_rhythmus_name"
   ]
  },
  {
   "cell_type": "code",
   "execution_count": null,
   "metadata": {},
   "outputs": [],
   "source": [
    "df.zahlung_rhythmus_name.value_counts().plot(kind='bar',figsize=(11,6));"
   ]
  },
  {
   "cell_type": "code",
   "execution_count": null,
   "metadata": {},
   "outputs": [],
   "source": [
    "fig, ax = plt.subplots(figsize=(16,16))\n",
    "ax = sns.countplot(x='zahlung_rhythmus_name',data=df,hue='churn')\n",
    "ax.set_xlabel('');"
   ]
  },
  {
   "cell_type": "code",
   "execution_count": null,
   "metadata": {},
   "outputs": [],
   "source": [
    "zahlung_rythmus_churn = crosstab_evaluation(df.zahlung_rhythmus_name,df.churn)\n",
    "zahlung_rythmus_churn.sort_values(by=1,inplace=True,ascending=True)\n",
    "crosstab_barplot(zahlung_rythmus_churn,['no churn','churn'],xlabelname='zahlung rythmus')"
   ]
  },
  {
   "cell_type": "markdown",
   "metadata": {},
   "source": [
    "We can observe a strong dependence of the payment period on the churn rate. Payments with less than one year period tend to have higher churn rates."
   ]
  },
  {
   "cell_type": "markdown",
   "metadata": {},
   "source": [
    "### rechnungsmonat"
   ]
  },
  {
   "cell_type": "code",
   "execution_count": null,
   "metadata": {},
   "outputs": [],
   "source": [
    "df.rechnungsmonat.value_counts().plot(kind='bar',figsize=(11,6));\n",
    "plt.xlabel('rechnungsmonat');"
   ]
  },
  {
   "cell_type": "markdown",
   "metadata": {},
   "source": [
    "Rechnungsmonat? What is the meaning?"
   ]
  },
  {
   "cell_type": "code",
   "execution_count": null,
   "metadata": {},
   "outputs": [],
   "source": [
    "rechnungsmonat_churn = crosstab_evaluation(df.rechnungsmonat,df.churn)\n",
    "crosstab_barplot(rechnungsmonat_churn,['no churn','churn'],xlabelname='rechnungsmonat')"
   ]
  },
  {
   "cell_type": "markdown",
   "metadata": {},
   "source": [
    "If there is a billing months, a subscriber has a higher tendency to churn the subscription than without a billing month. "
   ]
  },
  {
   "cell_type": "markdown",
   "metadata": {},
   "source": [
    "### zahlung_weg_name"
   ]
  },
  {
   "cell_type": "code",
   "execution_count": null,
   "metadata": {},
   "outputs": [],
   "source": [
    "df.zahlung_weg_name.value_counts().plot(kind='bar',figsize=(11,6));"
   ]
  },
  {
   "cell_type": "code",
   "execution_count": null,
   "metadata": {},
   "outputs": [],
   "source": [
    "zahlungsweg_churn = crosstab_evaluation(df.zahlung_weg_name,df.churn)\n",
    "crosstab_barplot(zahlungsweg_churn,['no churn','churn'],xlabelname='zahlungsweg')"
   ]
  },
  {
   "cell_type": "markdown",
   "metadata": {},
   "source": [
    "If the payment is made by direct debit (Bankeinzug), the churn rate is much lower than if the payment is made by invoice. Credit Cards and Paypal are in between."
   ]
  },
  {
   "cell_type": "markdown",
   "metadata": {},
   "source": [
    "### studentenabo"
   ]
  },
  {
   "cell_type": "code",
   "execution_count": null,
   "metadata": {},
   "outputs": [],
   "source": [
    "df.studentenabo.value_counts().plot(kind='bar',figsize=(11,6));"
   ]
  },
  {
   "cell_type": "code",
   "execution_count": null,
   "metadata": {},
   "outputs": [],
   "source": [
    "studentenabo_churn = crosstab_evaluation(df.studentenabo,df.churn)\n",
    "crosstab_barplot(studentenabo_churn,['no churn','churn'],xlabelname='studenten abo')\n",
    "plt.ylabel('probability');"
   ]
  },
  {
   "cell_type": "markdown",
   "metadata": {},
   "source": [
    "The students tend to churn more frequently."
   ]
  },
  {
   "cell_type": "markdown",
   "metadata": {},
   "source": [
    "#### Studentenmap"
   ]
  },
  {
   "cell_type": "code",
   "execution_count": null,
   "metadata": {},
   "outputs": [],
   "source": [
    "plz3_students = crosstab_evaluation(df.plz_3,df.studentenabo)\n",
    "#crosstab_barplot(plz3_students,['no student abo','student abo']ticklabelname='PLZ 3',figsize_x=50)"
   ]
  },
  {
   "cell_type": "code",
   "execution_count": null,
   "metadata": {},
   "outputs": [],
   "source": [
    "def convert_plz_3_to_student(plz):\n",
    "    index = str(plz)[0:3]\n",
    "    #print(index)\n",
    "    value = plz3_students[plz3_students.index == index].iloc[0,1]\n",
    "    #print(value)\n",
    "    return value"
   ]
  },
  {
   "cell_type": "code",
   "execution_count": null,
   "metadata": {},
   "outputs": [],
   "source": [
    "germany_df['studenten_plz_3'] = germany_df.plz.apply(lambda x: convert_plz_3_to_student(x))"
   ]
  },
  {
   "cell_type": "code",
   "execution_count": null,
   "metadata": {},
   "outputs": [],
   "source": [
    "fig, ax = plt.subplots(figsize=(11,16))\n",
    "\n",
    "germany_df.plot(\n",
    "    ax=ax, \n",
    "    column='studenten_plz_3', \n",
    "    categorical=False, \n",
    "    legend=True, \n",
    "    cmap='jet',\n",
    "    alpha=0.8,\n",
    "\n",
    ")\n",
    "\n",
    "for c in top_cities.keys():\n",
    "\n",
    "    ax.text(\n",
    "        x=top_cities[c][0], \n",
    "        y=top_cities[c][1] + 0.08, \n",
    "        s=c, \n",
    "        fontsize=12,\n",
    "        ha='center', \n",
    "    )\n",
    "\n",
    "    ax.plot(\n",
    "        top_cities[c][0], \n",
    "        top_cities[c][1], \n",
    "        marker='o',\n",
    "        c='black', \n",
    "        alpha=0.5\n",
    "    )\n",
    "    \n",
    "ax.set(\n",
    "    title='Germany: Student Abo Rate of first three digit plz', \n",
    "    aspect=1.5, \n",
    "    facecolor='lightblue'\n",
    ");\n",
    "fig.savefig('plots/student_abo_rate.png',dpi=300)"
   ]
  },
  {
   "cell_type": "markdown",
   "metadata": {},
   "source": [
    "Here we can see where the student churn rate is the highest and where it is the lowest."
   ]
  },
  {
   "cell_type": "markdown",
   "metadata": {},
   "source": [
    "### unterbrechung"
   ]
  },
  {
   "cell_type": "code",
   "execution_count": null,
   "metadata": {},
   "outputs": [],
   "source": [
    "df.unterbrechung.value_counts().plot(kind='bar',figsize=(11,6));\n",
    "plt.xlabel('unterbrechung');"
   ]
  },
  {
   "cell_type": "code",
   "execution_count": null,
   "metadata": {},
   "outputs": [],
   "source": [
    "unterbrechung_churn = crosstab_evaluation(df.unterbrechung,df.churn)\n",
    "crosstab_barplot(unterbrechung_churn,['no churn','churn'],xlabelname='unterbrechung')\n",
    "plt.ylabel('probability');"
   ]
  },
  {
   "cell_type": "markdown",
   "metadata": {},
   "source": [
    "The churn rate for interruptions of the subscription seems to be the same.  "
   ]
  },
  {
   "cell_type": "markdown",
   "metadata": {},
   "source": [
    "### Summary Subscription Data"
   ]
  },
  {
   "cell_type": "markdown",
   "metadata": {},
   "source": [
    "To sum up, the following was found about the subscription related features:\n",
    "\n",
    "- **kanal:** An important feature for churn (20 to almost 40 percent churn rate for different channels: keep feature  \n",
    "- **objekt_name:** Combined subscription have much less churn than digital and print subscriptions: keep feature  \n",
    "- **aboform_name:** Churn rate is dependent on the form of subscription: keep feature \n",
    "- **zahlung_rhythmus_name:** Dependence of the payment period on the churn rate: keep feature\n",
    "- **rechnungsmonat:** If there is a billing months, a subscriber has a higher tendency to churn: keep feature\n",
    "- **zahlung_weg_name:** Direct debit (Bankeinzug) churn rate is much lower than if the payment is made by invoice: keep feature \n",
    "- **studentenabo:** Students tend to churn more frequently: keep feature\n",
    "- **unterbrechung:** The churn rate for interruptions of the subscription seems to be the same: could be kept!"
   ]
  },
  {
   "cell_type": "markdown",
   "metadata": {},
   "source": [
    "## Time/Temporal Features - Jonas"
   ]
  },
  {
   "cell_type": "markdown",
   "metadata": {},
   "source": [
    "The following features are related to time subscription kind and shortly described: \n",
    "- lesedauer\n",
    "- liefer_beginn_evt\n",
    "- abo_registrierung_min\n",
    "- nl_registrierung_min\n",
    "- date_x\n",
    "- kuendigungs_eingangs_datum\n"
   ]
  },
  {
   "cell_type": "markdown",
   "metadata": {},
   "source": [
    "### lesedauer"
   ]
  },
  {
   "cell_type": "code",
   "execution_count": null,
   "metadata": {},
   "outputs": [],
   "source": [
    "df.lesedauer.value_counts().sort_index().plot(kind='bar',figsize=(25,6));\n",
    "#df.lesedauer.value_counts().sort_values('lesedauer').plot(kind='bar',figsize=(25,6));\n",
    "plt.xlabel('lesedauer');"
   ]
  },
  {
   "cell_type": "code",
   "execution_count": null,
   "metadata": {},
   "outputs": [],
   "source": [
    "lesedauer_churn = crosstab_evaluation(df.lesedauer,df.churn)\n",
    "crosstab_barplot(lesedauer_churn,['no churn','churn'],xlabelname='lesedauer',figsize_x=25,figsize_y=10)\n",
    "plt.ylabel('churn probability');\n",
    "plt.xticks(np.arange(0, 88, 6.0),rotation=0);"
   ]
  },
  {
   "cell_type": "markdown",
   "metadata": {},
   "source": [
    "The lesedauer is an important measure for the churn probability. With fewer months of lesedauer, the churn rate decreases, and then after 12 months there is a wave pattern with a period of 12 months (24, 36, 38, 60 months and so on) in which the churn rate increases.  )"
   ]
  },
  {
   "cell_type": "code",
   "execution_count": null,
   "metadata": {},
   "outputs": [],
   "source": [
    "fig, ax = plt.subplots(figsize=(25,10))\n",
    "ax = sns.countplot(x='lesedauer',data=df,hue='churn')\n",
    "ax.set_xlabel('');\n",
    "plt.xticks(np.arange(0, 88, 6.0));\n",
    "plt.xlabel('lesedauer');"
   ]
  },
  {
   "cell_type": "markdown",
   "metadata": {},
   "source": [
    "### liefer_beginn_evt"
   ]
  },
  {
   "cell_type": "code",
   "execution_count": null,
   "metadata": {},
   "outputs": [],
   "source": [
    "df.info()"
   ]
  },
  {
   "cell_type": "code",
   "execution_count": null,
   "metadata": {},
   "outputs": [],
   "source": [
    "df.liefer_beginn_evt.isna().sum()"
   ]
  },
  {
   "cell_type": "code",
   "execution_count": null,
   "metadata": {},
   "outputs": [],
   "source": [
    "# convert liefer beginn to datetime\n",
    "df.liefer_beginn_evt.head()"
   ]
  },
  {
   "cell_type": "code",
   "execution_count": null,
   "metadata": {},
   "outputs": [],
   "source": [
    "df['liefer_beginn_evt'] = pd.to_datetime(df['liefer_beginn_evt'])\n",
    "#df['liefer_beginn_evt'] = df['liefer_beginn_evt'].dt.date\n",
    "df.liefer_beginn_evt.describe()"
   ]
  },
  {
   "cell_type": "code",
   "execution_count": null,
   "metadata": {},
   "outputs": [],
   "source": [
    "df.liefer_beginn_evt.hist(bins=100,figsize=(11,6));\n",
    "plt.xlabel('Time');\n",
    "plt.ylabel('Count');"
   ]
  },
  {
   "cell_type": "code",
   "execution_count": null,
   "metadata": {},
   "outputs": [],
   "source": [
    "#plt.subplots(figsize=(15,6))\n",
    "#ax = sns.countplot(x='liefer_beginn_evt', data=df)\n",
    "#ax.set(xlabel='liefer_beginn_evt', ylabel='Frequency')\n",
    "#ax.set_xticklabels(ax.get_xticklabels(), rotation=90)"
   ]
  },
  {
   "cell_type": "markdown",
   "metadata": {},
   "source": [
    "### abo_registrierung_min"
   ]
  },
  {
   "cell_type": "code",
   "execution_count": null,
   "metadata": {},
   "outputs": [],
   "source": [
    "df.abo_registrierung_min.isna().sum()"
   ]
  },
  {
   "cell_type": "code",
   "execution_count": null,
   "metadata": {},
   "outputs": [],
   "source": [
    "# convert abo registrierung to datetime\n",
    "df['abo_registrierung_min'] = pd.to_datetime(df['abo_registrierung_min'])\n",
    "#df['abo_registrierung_min'] = df['abo_registrierung_min'].dt.date\n",
    "df.abo_registrierung_min.describe()"
   ]
  },
  {
   "cell_type": "code",
   "execution_count": null,
   "metadata": {},
   "outputs": [],
   "source": [
    "df.abo_registrierung_min.hist(bins=200,figsize=(11,6));\n",
    "plt.xlabel('Time');\n",
    "plt.ylabel('Count');"
   ]
  },
  {
   "cell_type": "code",
   "execution_count": null,
   "metadata": {},
   "outputs": [],
   "source": [
    "df.abo_registrierung_min.hist(bins=200,figsize=(11,6));\n",
    "plt.xlabel('Time');\n",
    "plt.ylabel('Count');\n",
    "plt.xlim('1960-01-01','2020-01-01');"
   ]
  },
  {
   "cell_type": "markdown",
   "metadata": {},
   "source": [
    "### nl_registrierung_min"
   ]
  },
  {
   "cell_type": "code",
   "execution_count": null,
   "metadata": {},
   "outputs": [],
   "source": [
    "df.nl_registrierung_min.isna().sum()"
   ]
  },
  {
   "cell_type": "code",
   "execution_count": null,
   "metadata": {},
   "outputs": [],
   "source": [
    "# convert nl_registrierung to datetime\n",
    "df['nl_registrierung_min'] = pd.to_datetime(df['nl_registrierung_min'], format='%Y-%m-%d')\n",
    "#df['nl_registrierung_min'] = df['nl_registrierung_min'].dt.date\n",
    "df.nl_registrierung_min.describe()"
   ]
  },
  {
   "cell_type": "code",
   "execution_count": null,
   "metadata": {},
   "outputs": [],
   "source": [
    "df.info()"
   ]
  },
  {
   "cell_type": "code",
   "execution_count": null,
   "metadata": {},
   "outputs": [],
   "source": [
    "df.nl_registrierung_min.head(2)"
   ]
  },
  {
   "cell_type": "code",
   "execution_count": null,
   "metadata": {},
   "outputs": [],
   "source": [
    "df.nl_registrierung_min.hist(bins=200,figsize=(11,6));\n",
    "plt.xlabel('Time');\n",
    "plt.ylabel('Count');"
   ]
  },
  {
   "cell_type": "code",
   "execution_count": null,
   "metadata": {},
   "outputs": [],
   "source": [
    "df.nl_registrierung_min.hist(bins=200,figsize=(11,6));\n",
    "plt.xlabel('Time');\n",
    "plt.ylabel('Count');\n",
    "plt.xlim('2000-01-01','2020-01-01')"
   ]
  },
  {
   "cell_type": "code",
   "execution_count": null,
   "metadata": {},
   "outputs": [],
   "source": [
    "#df['nl_registrierung_min'] = [time.date() for time in df['nl_registrierung_min']]"
   ]
  },
  {
   "cell_type": "code",
   "execution_count": null,
   "metadata": {},
   "outputs": [],
   "source": [
    "df.nl_registrierung_min.head(2)"
   ]
  },
  {
   "cell_type": "markdown",
   "metadata": {},
   "source": [
    "### date_x"
   ]
  },
  {
   "cell_type": "code",
   "execution_count": null,
   "metadata": {},
   "outputs": [],
   "source": [
    "df.date_x.isna().sum()"
   ]
  },
  {
   "cell_type": "code",
   "execution_count": null,
   "metadata": {},
   "outputs": [],
   "source": [
    "# convert date_x to datetime\n",
    "df['date_x'] = pd.to_datetime(df['date_x'], format='%Y-%m-%d')\n",
    "df['date_x'] = df['date_x'].dt.date\n",
    "df.date_x.describe()"
   ]
  },
  {
   "cell_type": "code",
   "execution_count": null,
   "metadata": {},
   "outputs": [],
   "source": [
    "df.date_x.head(2)"
   ]
  },
  {
   "cell_type": "code",
   "execution_count": null,
   "metadata": {},
   "outputs": [],
   "source": [
    "df.date_x.hist(bins=100,figsize=(11,6));\n",
    "plt.xlabel('Time');\n",
    "plt.ylabel('Count');"
   ]
  },
  {
   "cell_type": "markdown",
   "metadata": {},
   "source": [
    "### kuendigungs_eingangs_datum"
   ]
  },
  {
   "cell_type": "code",
   "execution_count": null,
   "metadata": {},
   "outputs": [],
   "source": [
    "df.kuendigungs_eingangs_datum.isna().sum()"
   ]
  },
  {
   "cell_type": "code",
   "execution_count": null,
   "metadata": {},
   "outputs": [],
   "source": [
    "df.kuendigungs_eingangs_datum.fillna(value='1900-01-01 00:00:00',inplace=True);"
   ]
  },
  {
   "cell_type": "code",
   "execution_count": null,
   "metadata": {},
   "outputs": [],
   "source": [
    "# convert date_x to datetime\n",
    "df['kuendigungs_eingangs_datum'] = pd.to_datetime(df['kuendigungs_eingangs_datum'],errors='coerce',format='%Y-%m-%d')\n",
    "#df['kuendigungs_eingangs_datum'] = df['kuendigungs_eingangs_datum'].dt.date\n",
    "df.kuendigungs_eingangs_datum.describe()"
   ]
  },
  {
   "cell_type": "code",
   "execution_count": null,
   "metadata": {},
   "outputs": [],
   "source": [
    "df.info()"
   ]
  },
  {
   "cell_type": "code",
   "execution_count": null,
   "metadata": {},
   "outputs": [],
   "source": [
    "df.kuendigungs_eingangs_datum.hist(bins=200,figsize=(11,6));\n",
    "plt.xlabel('Time');\n",
    "plt.ylabel('Count');"
   ]
  },
  {
   "cell_type": "code",
   "execution_count": null,
   "metadata": {},
   "outputs": [],
   "source": [
    "df.kuendigungs_eingangs_datum.hist(bins=1000,figsize=(11,6));\n",
    "plt.xlabel('Time');\n",
    "plt.ylabel('Count');\n",
    "plt.xlim('2019-01-01','2020-06-01');\n",
    "#plt.ylim(0,10000)"
   ]
  },
  {
   "cell_type": "markdown",
   "metadata": {},
   "source": [
    "#### Kündigungen 2020"
   ]
  },
  {
   "cell_type": "code",
   "execution_count": null,
   "metadata": {},
   "outputs": [],
   "source": [
    "kuendigungen_2020 = df[df['kuendigungs_eingangs_datum'] > '2020-01-01']\n",
    "kuendigungen_2020.shape"
   ]
  },
  {
   "cell_type": "code",
   "execution_count": null,
   "metadata": {},
   "outputs": [],
   "source": [
    "df['kuendigungs_eingangs_datum'][0]"
   ]
  },
  {
   "cell_type": "code",
   "execution_count": null,
   "metadata": {},
   "outputs": [],
   "source": [
    "kuendigungen_2020.kuendigungs_eingangs_datum.max()"
   ]
  },
  {
   "cell_type": "code",
   "execution_count": null,
   "metadata": {},
   "outputs": [],
   "source": [
    "kuendigungen_2020.kuendigungs_eingangs_datum.head()"
   ]
  },
  {
   "cell_type": "code",
   "execution_count": null,
   "metadata": {},
   "outputs": [],
   "source": [
    "kuendigungen_2020 = kuendigungen_2020.sort_values(by=\"kuendigungs_eingangs_datum\",ascending=True)"
   ]
  },
  {
   "cell_type": "code",
   "execution_count": null,
   "metadata": {},
   "outputs": [],
   "source": [
    "kuendigungen_2020.head(2)"
   ]
  },
  {
   "cell_type": "code",
   "execution_count": null,
   "metadata": {},
   "outputs": [],
   "source": [
    "import matplotlib.dates as mdates\n",
    "from datetime import datetime\n",
    "from matplotlib.dates import DateFormatter, MonthLocator, YearLocator\n",
    "\n",
    "years = mdates.YearLocator()   # every year\n",
    "months = mdates.MonthLocator()  # every month\n",
    "years_fmt = mdates.DateFormatter('%Y')\n",
    "\n",
    "fig, ax = plt.subplots(figsize=(18,8))\n",
    "\n",
    "sns.countplot(kuendigungen_2020['kuendigungs_eingangs_datum']);\n",
    "plt.xticks(rotation=90);\n",
    "plt.xlabel('kuendigungs_eingang_datum 2020')\n",
    "\n",
    "months = MonthLocator()\n",
    "monthsFmt = DateFormatter(\"%b\")\n",
    "\n",
    "years = YearLocator()\n",
    "yearsFmt = DateFormatter(\"%y\")\n",
    "\n",
    "ax.xaxis.set_major_locator(mdates.MonthLocator(interval=1))\n",
    "\n",
    "#ax.xaxis.set_major_locator(months)\n",
    "#ax.xaxis.set_major_formatter(monthsFmt)"
   ]
  },
  {
   "cell_type": "markdown",
   "metadata": {},
   "source": [
    "#### Kündigungen 2019"
   ]
  },
  {
   "cell_type": "code",
   "execution_count": null,
   "metadata": {},
   "outputs": [],
   "source": [
    "kuendigungen_2019 = df[(df['kuendigungs_eingangs_datum'] < '2020-01-01') & (df['kuendigungs_eingangs_datum'] > '2019-01-01')]\n",
    "kuendigungen_2019.shape"
   ]
  },
  {
   "cell_type": "code",
   "execution_count": null,
   "metadata": {},
   "outputs": [],
   "source": [
    "kuendigungen_2019.kuendigungs_eingangs_datum.min()"
   ]
  },
  {
   "cell_type": "code",
   "execution_count": null,
   "metadata": {},
   "outputs": [],
   "source": [
    "kuendigungen_2019.kuendigungs_eingangs_datum.head()"
   ]
  },
  {
   "cell_type": "code",
   "execution_count": null,
   "metadata": {},
   "outputs": [],
   "source": [
    "kuendigungen_2019 = kuendigungen_2019.sort_values(by=\"kuendigungs_eingangs_datum\",ascending=True)"
   ]
  },
  {
   "cell_type": "code",
   "execution_count": null,
   "metadata": {},
   "outputs": [],
   "source": [
    "kuendigungen_2019.head(2)"
   ]
  },
  {
   "cell_type": "code",
   "execution_count": null,
   "metadata": {},
   "outputs": [],
   "source": [
    "import matplotlib.dates as mdates\n",
    "from datetime import datetime\n",
    "from matplotlib.dates import DateFormatter, MonthLocator, YearLocator\n",
    "\n",
    "years = mdates.YearLocator()   # every year\n",
    "months = mdates.MonthLocator()  # every month\n",
    "years_fmt = mdates.DateFormatter('%Y')\n",
    "\n",
    "fig, ax = plt.subplots(figsize=(18,8))\n",
    "\n",
    "ax = sns.countplot(kuendigungen_2019['kuendigungs_eingangs_datum']);\n",
    "plt.xticks(rotation=90);\n",
    "plt.xlabel('kuendigungs_eingang_datum 2019')\n",
    "\n",
    "months = MonthLocator()\n",
    "monthsFmt = DateFormatter(\"%m-%d\")\n",
    "\n",
    "years = YearLocator()\n",
    "yearsFmt = DateFormatter(\"%y\")\n",
    "\n",
    "#ax.xaxis.set_major_formatter(monthsFmt)\n",
    "#ax.xaxis.set_major_locator(months)\n",
    "\n",
    "date_form = DateFormatter(\"%m-%d\")\n",
    "#ax.xaxis.set_major_formatter(date_form)\n",
    "\n",
    "# Ensure a major tick for each week using (interval=1) \n",
    "ax.xaxis.set_major_locator(mdates.MonthLocator(interval=1))\n",
    "\n",
    "#ax.set_xlim(pd.datetime.strptime(startDate,'%Y-%m-%d'),pd.datetime.strptime(stopDate,'%Y-%m-%d'))"
   ]
  },
  {
   "cell_type": "markdown",
   "metadata": {},
   "source": [
    "### Time relation between kuendigungs_eingangs_datum und lieferstart"
   ]
  },
  {
   "cell_type": "code",
   "execution_count": null,
   "metadata": {},
   "outputs": [],
   "source": [
    "df_churn = df.query('churn == 1')"
   ]
  },
  {
   "cell_type": "code",
   "execution_count": null,
   "metadata": {},
   "outputs": [],
   "source": [
    "df_churn['delivery_to_churn'] = df_churn['kuendigungs_eingangs_datum'] - df_churn['liefer_beginn_evt']"
   ]
  },
  {
   "cell_type": "code",
   "execution_count": null,
   "metadata": {},
   "outputs": [],
   "source": [
    "df_churn.head(2)"
   ]
  },
  {
   "cell_type": "code",
   "execution_count": null,
   "metadata": {},
   "outputs": [],
   "source": [
    "df_churn['delivery_to_churn'].astype('timedelta64[s]').div(2592000).plot.hist(bins=120,figsize=(20,6));\n",
    "plt.xlabel('months from delivery to churn receiving');\n",
    "plt.xticks(np.arange(0,120,12));"
   ]
  },
  {
   "cell_type": "code",
   "execution_count": null,
   "metadata": {},
   "outputs": [],
   "source": [
    "df_churn['delivery_to_churn'].astype('timedelta64[s]').div(2592000).max()"
   ]
  },
  {
   "cell_type": "code",
   "execution_count": null,
   "metadata": {},
   "outputs": [],
   "source": [
    "df_churn['delivery_to_churn'] = df_churn['delivery_to_churn'].astype('timedelta64[s]').div(2592000)"
   ]
  },
  {
   "cell_type": "code",
   "execution_count": null,
   "metadata": {},
   "outputs": [],
   "source": [
    "df_churn['delivery_to_churn'].head(2)"
   ]
  },
  {
   "cell_type": "code",
   "execution_count": null,
   "metadata": {},
   "outputs": [],
   "source": [
    "months_bins = np.arange(0, 90.5, 0.5)\n",
    "months_bins"
   ]
  },
  {
   "cell_type": "code",
   "execution_count": null,
   "metadata": {},
   "outputs": [],
   "source": [
    "months_bin_series = pd.cut(df_churn['delivery_to_churn'], bins=months_bins, labels=months_bins[:-1])\n",
    "months_bin_series.name = 'months_bins_2m'\n",
    "df_churn['months_bins_2m'] = months_bin_series"
   ]
  },
  {
   "cell_type": "code",
   "execution_count": null,
   "metadata": {},
   "outputs": [],
   "source": [
    "df_churn.head(2)"
   ]
  },
  {
   "cell_type": "code",
   "execution_count": null,
   "metadata": {},
   "outputs": [],
   "source": [
    "import matplotlib.ticker as ticker\n",
    "fig, ax = plt.subplots(figsize=(11,16))\n",
    "df_churn.groupby('months_bins_2m').count()['churn'].plot(kind='bar',figsize=(20,6))\n",
    "x_ticks = np.arange(0, 120, 2);\n",
    "plt.xticks(x_ticks);\n",
    "plt.xlim(0,98);\n",
    "plt.ylabel('Number of churns');\n",
    "plt.xlabel('Months from delivery to date of receipt of the churn');\n",
    "\n",
    "#ax.xaxis.set_major_formatter(ticker.ScalarFormatter())\n",
    "#ax.xaxis.set_major_formatter(ticker.StrMethodFormatter(\"{x:.0f}\"))"
   ]
  },
  {
   "cell_type": "markdown",
   "metadata": {},
   "source": [
    "### Time Relation between kuendigungs_eingangs_datum and nl_registrierung_min"
   ]
  },
  {
   "cell_type": "code",
   "execution_count": null,
   "metadata": {},
   "outputs": [],
   "source": [
    "df_churn['nl_start_to_churn'] = df_churn['kuendigungs_eingangs_datum'] - df_churn['nl_registrierung_min']"
   ]
  },
  {
   "cell_type": "code",
   "execution_count": null,
   "metadata": {},
   "outputs": [],
   "source": [
    "df_churn.head(2)"
   ]
  },
  {
   "cell_type": "code",
   "execution_count": null,
   "metadata": {},
   "outputs": [],
   "source": [
    "df_churn['nl_start_to_churn'].astype('timedelta64[s]').div(2592000).plot.hist(bins=1200,figsize=(20,6));\n",
    "plt.xlabel('months from nl_registrierung min to churn receiving');\n",
    "plt.xlim(-10,200);"
   ]
  },
  {
   "cell_type": "code",
   "execution_count": null,
   "metadata": {},
   "outputs": [],
   "source": [
    "df_churn['nl_start_to_churn'] = df_churn['nl_start_to_churn'].astype('timedelta64[s]').div(2592000)"
   ]
  },
  {
   "cell_type": "code",
   "execution_count": null,
   "metadata": {},
   "outputs": [],
   "source": [
    "df_churn['nl_start_to_churn'].head(2)"
   ]
  },
  {
   "cell_type": "code",
   "execution_count": null,
   "metadata": {},
   "outputs": [],
   "source": [
    "months_bins = np.arange(0, 90.5, 0.5)\n",
    "months_bins"
   ]
  },
  {
   "cell_type": "code",
   "execution_count": null,
   "metadata": {},
   "outputs": [],
   "source": [
    "nl_min_bins_series = pd.cut(df_churn['nl_start_to_churn'], bins=months_bins, labels=months_bins[:-1])\n",
    "nl_min_bins_series.name = 'nl_min_bins_05m'\n",
    "df_churn['nl_start_to_churn_bins_05m'] = nl_min_bins_series"
   ]
  },
  {
   "cell_type": "code",
   "execution_count": null,
   "metadata": {},
   "outputs": [],
   "source": [
    "fig, ax = plt.subplots(figsize=(11,16))\n",
    "df_churn.groupby('nl_start_to_churn_bins_05m').count()['churn'].plot(kind='bar',figsize=(20,6))\n",
    "x_ticks = np.arange(0, 120, 2);\n",
    "plt.xticks(x_ticks);\n",
    "plt.xlim(0,98);\n",
    "plt.ylabel('Number of churns');\n",
    "plt.xlabel('Months from nl_registrierung_min to date of receipt of the churn');"
   ]
  },
  {
   "cell_type": "markdown",
   "metadata": {},
   "source": [
    "## Activity features\n",
    "\n",
    "These features were we can see interactions and communicate with the customers.\n",
    "\n",
    "- newsletter\n",
    "- clickrates\n",
    "- openrates\n",
    "- community"
   ]
  },
  {
   "cell_type": "code",
   "execution_count": null,
   "metadata": {},
   "outputs": [],
   "source": [
    "index=0\n",
    "for elem in df.columns:\n",
    "    index+=1\n",
    "    print(f\"{index} {elem}\")"
   ]
  },
  {
   "cell_type": "code",
   "execution_count": null,
   "metadata": {},
   "outputs": [],
   "source": [
    "df_zon = df.iloc[::, 21:35]                # zones are special areas that need registration\n",
    "df_cnt = df.iloc[::, 35:40]                # cnt is the number of subscribtions the contract holds (families, libaries etc.)\n",
    "df_nl = df.iloc[::, 41:51]                 # newsletter\n",
    "df_nl_interact = df.iloc[::, 55:77]        # newsletter interactions\n",
    "df_nl_bestandskunden = df.iloc[::, 77:99]  # newsletter existing customers\n",
    "df_nl_produktnews = df.iloc[::, 99:121]    # productnews (kind of newsletter but more commercial)\n",
    "df_nl_hamburg = df.iloc[::, 121:143]       # newsletter region hamburg\n",
    "df_zb = df.iloc[::, 143:165]               # zb = zeitbrief kind of letter"
   ]
  },
  {
   "cell_type": "code",
   "execution_count": null,
   "metadata": {},
   "outputs": [],
   "source": [
    "df_list = [df, df_zon, df_cnt, df_nl, df_nl_interact, df_nl_bestandskunden, df_nl_produktnews, df_nl_hamburg, df_zb]\n",
    "\n",
    "#for elem in df_list:\n",
    "#    eda.correlogram(elem)"
   ]
  },
  {
   "cell_type": "markdown",
   "metadata": {},
   "source": [
    "## Target Variable Analysis - churn"
   ]
  },
  {
   "cell_type": "markdown",
   "metadata": {},
   "source": [
    "Our target variable is \"churn\", which is 1 - churn or 0 - no churn. "
   ]
  },
  {
   "cell_type": "code",
   "execution_count": null,
   "metadata": {},
   "outputs": [],
   "source": [
    "## Show the imbalance of churn target\n",
    "df.churn.value_counts().plot(kind='bar',figsize=(11,6));\n",
    "plt.ylabel('Count');\n",
    "#plt.xlabel('Churn')\n",
    "plt.xticks(np.arange(2), ('no churn', 'churn'),fontsize=20,rotation=0);"
   ]
  },
  {
   "cell_type": "markdown",
   "metadata": {},
   "source": [
    "## Feature Analysis"
   ]
  },
  {
   "cell_type": "markdown",
   "metadata": {},
   "source": [
    "## Observation of histograms for distribution characteristics"
   ]
  },
  {
   "cell_type": "markdown",
   "metadata": {},
   "source": [
    "## Correlogram for continuous variables - Heatmap"
   ]
  },
  {
   "cell_type": "markdown",
   "metadata": {},
   "source": [
    "## Overal Skew and Kurtosis of the data"
   ]
  },
  {
   "cell_type": "markdown",
   "metadata": {},
   "source": [
    "## Final Feature Selection List and Dropping of Features"
   ]
  },
  {
   "cell_type": "markdown",
   "metadata": {},
   "source": [
    "## Statistical distribution of our target default"
   ]
  },
  {
   "cell_type": "markdown",
   "metadata": {},
   "source": [
    "## Export the dataframe to .csv file"
   ]
  },
  {
   "cell_type": "markdown",
   "metadata": {},
   "source": [
    "## Conclusion"
   ]
  },
  {
   "cell_type": "markdown",
   "metadata": {},
   "source": [
    "# Feature Engineering"
   ]
  },
  {
   "cell_type": "markdown",
   "metadata": {},
   "source": [
    "# Predictive Modelling"
   ]
  },
  {
   "cell_type": "markdown",
   "metadata": {},
   "source": [
    "## Structure of the notebooks for machine learning"
   ]
  },
  {
   "cell_type": "markdown",
   "metadata": {},
   "source": [
    "We used different jupyter notebook for different methods of machine learning. These notebooks are linked here:\n",
    "    \n",
    "- ...\n",
    "\n",
    "- ...\n",
    "\n",
    "- ...\n",
    "\n",
    "- ..."
   ]
  },
  {
   "cell_type": "markdown",
   "metadata": {},
   "source": [
    "# Data Visualization"
   ]
  },
  {
   "cell_type": "markdown",
   "metadata": {},
   "source": [
    "The results and our main finding can be found in our presentation:"
   ]
  },
  {
   "cell_type": "markdown",
   "metadata": {},
   "source": [
    "# Future Work"
   ]
  },
  {
   "cell_type": "markdown",
   "metadata": {},
   "source": [
    "The aspects of future work can be found in our presentation. "
   ]
  }
 ],
 "metadata": {
  "kernelspec": {
   "display_name": "Python [conda env:nf] *",
   "language": "python",
   "name": "conda-env-nf-py"
  },
  "language_info": {
   "codemirror_mode": {
    "name": "ipython",
    "version": 3
   },
   "file_extension": ".py",
   "mimetype": "text/x-python",
   "name": "python",
   "nbconvert_exporter": "python",
   "pygments_lexer": "ipython3",
   "version": "3.6.10"
  },
  "toc": {
   "base_numbering": 1,
   "nav_menu": {},
   "number_sections": true,
   "sideBar": true,
   "skip_h1_title": false,
   "title_cell": "Table of Contents",
   "title_sidebar": "Contents",
   "toc_cell": false,
   "toc_position": {
    "height": "calc(100% - 180px)",
    "left": "10px",
    "top": "150px",
    "width": "405.243px"
   },
   "toc_section_display": true,
   "toc_window_display": true
  },
  "toc-autonumbering": true,
  "toc-showmarkdowntxt": false,
  "varInspector": {
   "cols": {
    "lenName": 16,
    "lenType": 16,
    "lenVar": 40
   },
   "kernels_config": {
    "python": {
     "delete_cmd_postfix": "",
     "delete_cmd_prefix": "del ",
     "library": "var_list.py",
     "varRefreshCmd": "print(var_dic_list())"
    },
    "r": {
     "delete_cmd_postfix": ") ",
     "delete_cmd_prefix": "rm(",
     "library": "var_list.r",
     "varRefreshCmd": "cat(var_dic_list()) "
    }
   },
   "types_to_exclude": [
    "module",
    "function",
    "builtin_function_or_method",
    "instance",
    "_Feature"
   ],
   "window_display": false
  }
 },
 "nbformat": 4,
 "nbformat_minor": 4
}
